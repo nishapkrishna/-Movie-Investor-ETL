{
 "cells": [
  {
   "cell_type": "code",
   "execution_count": 2,
   "metadata": {},
   "outputs": [],
   "source": [
    "# Import Dependencies\n",
    "import pandas as pd\n",
    "from sqlalchemy import create_engine\n",
    "import pymysql\n",
    "pymysql.install_as_MySQLdb()"
   ]
  },
  {
   "cell_type": "code",
   "execution_count": 24,
   "metadata": {},
   "outputs": [],
   "source": [
    "# Store CSV into dataframe\n",
    "#csv_file = \"movies_metadata.csv\"\n",
    "#movies_metadata1 = pd.read_csv(\"movies_metadata.csv\",low_memory=False)"
   ]
  },
  {
   "cell_type": "code",
   "execution_count": 5,
   "metadata": {},
   "outputs": [],
   "source": [
    "# input file names\n",
    "credits_csv = \"credits.csv\""
   ]
  },
  {
   "cell_type": "code",
   "execution_count": 6,
   "metadata": {
    "scrolled": true
   },
   "outputs": [
    {
     "data": {
      "text/plain": [
       "cast    45476\n",
       "crew    45476\n",
       "id      45476\n",
       "dtype: int64"
      ]
     },
     "execution_count": 6,
     "metadata": {},
     "output_type": "execute_result"
    }
   ],
   "source": [
    "# start with credits file and extract director name\n",
    "credits_df = pd.read_csv(credits_csv,low_memory=False)\n",
    "credits_df.count()"
   ]
  },
  {
   "cell_type": "code",
   "execution_count": 26,
   "metadata": {},
   "outputs": [],
   "source": [
    "## dataprep for cast table\n",
    "#cast_movie_id = []\n",
    "#cast_id = []\n",
    "#character = []\n",
    "#actor_id = []\n",
    "#actor_name = []\n",
    "#actor_gender = []\n",
    "#release_date = []\n",
    "#\n",
    "## loop thru each row  \n",
    "#for idx, rows in credits_df.iterrows():\n",
    "#\n",
    "## cast columns are stored as string, evaluate it to a list of dictionaries    \n",
    "#    cast_dict = eval(rows['cast'])\n",
    "#    \n",
    "## look thru each crew dictionary and extract director name based on job title\n",
    "#    for i in range(len(cast_dict)):\n",
    "#        cast_movie_id.append(rows.id)\n",
    "#        cast_id.append(cast_dict[i]['cast_id'])\n",
    "#        character.append(cast_dict[i]['character'])\n",
    "#        actor_id.append(cast_dict[i]['id'])\n",
    "#        actor_name.append(cast_dict[i]['name'])\n",
    "#        actor_gender.append(cast_dict[i]['gender'])\n",
    "#        frmt_dte = movies_metatdata1['release_date'].strtime()\n",
    "#        release_date.append(frmt_dte)\n",
    "#\n",
    "## create Director dataframe to merge with movies data\n",
    "#cast_df = pd.DataFrame({\"movie_id\": cast_movie_id, \"cast_id\": cast_id, \n",
    "#                       \"movie_character\": character, \"actor_id\": actor_id,\n",
    "#                       \"actor_name\": actor_name, \"gender\": actor_gender})\n",
    "#cast_df.count()\n",
    "#"
   ]
  },
  {
   "cell_type": "code",
   "execution_count": 9,
   "metadata": {},
   "outputs": [
    {
     "data": {
      "text/plain": [
       "movie_id      464314\n",
       "department    464314\n",
       "job_title     464314\n",
       "crew_name     464314\n",
       "gender        464314\n",
       "dtype: int64"
      ]
     },
     "execution_count": 9,
     "metadata": {},
     "output_type": "execute_result"
    }
   ],
   "source": [
    "# dataprep for crew table\n",
    "crew_movie_id = []\n",
    "department = []\n",
    "job_title = []\n",
    "name = []\n",
    "gender = []\n",
    "\n",
    "# loop thru each row  \n",
    "for idx, rows in credits_df.iterrows():\n",
    "\n",
    "# cast columns are stored as string, evaluate it to a list of dictionaries    \n",
    "    crew_dict = eval(rows['crew'])\n",
    "    \n",
    "    # look thru each crew dictionary and extract director name based on job title\n",
    "    for i in range(len(crew_dict)):\n",
    "        crew_movie_id.append(rows.id)\n",
    "        department.append(crew_dict[i]['department'])\n",
    "        job_title.append(crew_dict[i]['job'])\n",
    "        name.append(crew_dict[i]['name'])\n",
    "        gender.append(crew_dict[i]['gender'])\n",
    "        \n",
    "# create Director dataframe to merge with movies data\n",
    "crew_df = pd.DataFrame({\"movie_id\": crew_movie_id, \"department\": department, \n",
    "                       \"job_title\": job_title, \"crew_name\": name, \"gender\": gender})\n",
    "                       \n",
    "crew_df.count()"
   ]
  },
  {
   "cell_type": "code",
   "execution_count": 24,
   "metadata": {},
   "outputs": [],
   "source": [
    "cast_df.to_csv('Movies_cast.csv', index=False)"
   ]
  },
  {
   "cell_type": "code",
   "execution_count": 11,
   "metadata": {},
   "outputs": [],
   "source": [
    "crew_df.to_csv('movies_crew.csv', index=False)"
   ]
  },
  {
   "cell_type": "code",
   "execution_count": 12,
   "metadata": {},
   "outputs": [],
   "source": [
    "# Set connection\n",
    "rds_connection_string = \"root:143Shambhu@127.0.0.1/movies_database\"\n",
    "engine = create_engine(f'mysql://{rds_connection_string}',pool_size=10, max_overflow=-1)"
   ]
  },
  {
   "cell_type": "code",
   "execution_count": 38,
   "metadata": {
    "scrolled": false
   },
   "outputs": [],
   "source": [
    "# Load movie_cast table\n",
    "engine.execute(\"delete from movie_cast\")\n",
    "cast_df.to_sql(name='movie_cast', con=engine, if_exists='append', index=False)"
   ]
  },
  {
   "cell_type": "code",
   "execution_count": 14,
   "metadata": {},
   "outputs": [],
   "source": [
    "# Load movie_crew table\n",
    "engine.execute(\"delete from movie_crew\")\n",
    "crew_df.to_sql(name='movie_crew', con=engine, if_exists='append', index=False)"
   ]
  },
  {
   "cell_type": "code",
   "execution_count": null,
   "metadata": {},
   "outputs": [],
   "source": []
  }
 ],
 "metadata": {
  "kernelspec": {
   "display_name": "Python 3 (nisha_work_correct)",
   "language": "python",
   "name": "nisha_work"
  },
  "language_info": {
   "codemirror_mode": {
    "name": "ipython",
    "version": 3
   },
   "file_extension": ".py",
   "mimetype": "text/x-python",
   "name": "python",
   "nbconvert_exporter": "python",
   "pygments_lexer": "ipython3",
   "version": "3.6.8"
  }
 },
 "nbformat": 4,
 "nbformat_minor": 2
}
