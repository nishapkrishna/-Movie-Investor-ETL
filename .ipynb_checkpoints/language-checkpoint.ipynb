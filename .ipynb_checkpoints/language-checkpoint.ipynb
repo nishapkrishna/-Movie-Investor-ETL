{
 "cells": [
  {
   "cell_type": "code",
   "execution_count": 1,
   "metadata": {},
   "outputs": [],
   "source": [
    "# Import Dependencies\n",
    "import pandas as pd"
   ]
  },
  {
   "cell_type": "code",
   "execution_count": 2,
   "metadata": {},
   "outputs": [],
   "source": [
    "# input file names\n",
    "movies_csv = \"movies_metadata.csv\""
   ]
  },
  {
   "cell_type": "code",
   "execution_count": 3,
   "metadata": {},
   "outputs": [
    {
     "data": {
      "text/plain": [
       "adult                    45466\n",
       "belongs_to_collection     4494\n",
       "budget                   45466\n",
       "genres                   45466\n",
       "homepage                  7782\n",
       "id                       45466\n",
       "imdb_id                  45449\n",
       "original_language        45455\n",
       "original_title           45466\n",
       "overview                 44512\n",
       "popularity               45461\n",
       "poster_path              45080\n",
       "production_companies     45463\n",
       "production_countries     45463\n",
       "release_date             45379\n",
       "revenue                  45460\n",
       "runtime                  45203\n",
       "spoken_languages         45460\n",
       "status                   45379\n",
       "tagline                  20412\n",
       "title                    45460\n",
       "video                    45460\n",
       "vote_average             45460\n",
       "vote_count               45460\n",
       "dtype: int64"
      ]
     },
     "execution_count": 3,
     "metadata": {},
     "output_type": "execute_result"
    }
   ],
   "source": [
    "# start with credits file and extract original language\n",
    "movies_pf = pd.read_csv(movies_csv,low_memory=False)\n",
    "movies_pf.count()"
   ]
  },
  {
   "cell_type": "code",
   "execution_count": null,
   "metadata": {},
   "outputs": [],
   "source": [
    "movie_id = []\n",
    "original_lan = []\n",
    "spoken_lan= []\n",
    "\n",
    "\n",
    "\n",
    "# loop thru each row\n",
    "for idx, rows in credits_df.iterrows():\n",
    "\n",
    "# crew is stored as string, evaluate it to a list of dictionaries\n",
    "   crew_dict = eval(rows['crew'])\n",
    "# look thru each dictionary and extract director name based on job title\n",
    "   for i in range(len(crew_dict)):\n",
    "       department.append(crew_dict[i]['department'])\n",
    "       gender.append(crew_dict[i]['gender'])\n",
    "       job_title.append(crew_dict[i]['job'])\n",
    "       name.append(crew_dict[i]['name'])\n",
    "       movie_id.append(rows.id)\n",
    "\n",
    "\n",
    "# create Director dataframe to merge with movies data\n",
    "crew_df = pd.DataFrame({\"Movie_id\": movie_id, \"Department\": department, \"Job_title\": Job_title\n",
    "                       , \"Name\": name, \"Gender\": gender})\n",
    "crew_df.count()"
   ]
  }
 ],
 "metadata": {
  "kernelspec": {
   "display_name": "Python 3 (nisha_work_correct)",
   "language": "python",
   "name": "nisha_work"
  },
  "language_info": {
   "codemirror_mode": {
    "name": "ipython",
    "version": 3
   },
   "file_extension": ".py",
   "mimetype": "text/x-python",
   "name": "python",
   "nbconvert_exporter": "python",
   "pygments_lexer": "ipython3",
   "version": "3.6.8"
  }
 },
 "nbformat": 4,
 "nbformat_minor": 2
}
